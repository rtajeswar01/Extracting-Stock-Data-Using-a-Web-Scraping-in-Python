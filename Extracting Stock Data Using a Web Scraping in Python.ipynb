{
 "cells": [
  {
   "cell_type": "markdown",
   "id": "d1f6195a",
   "metadata": {},
   "source": [
    "# Extracting Stock Data Using a Web Scraping"
   ]
  },
  {
   "cell_type": "markdown",
   "id": "c8de2c5b",
   "metadata": {},
   "source": [
    "## Extracting Stock Data of Netflix"
   ]
  },
  {
   "cell_type": "code",
   "execution_count": 3,
   "id": "b9f0ddc7",
   "metadata": {},
   "outputs": [],
   "source": [
    "#Import libraries\n",
    "import pandas as pd\n",
    "import requests\n",
    "from bs4 import BeautifulSoup"
   ]
  },
  {
   "cell_type": "markdown",
   "id": "3bbdc3ae",
   "metadata": {},
   "source": [
    "Step-1 Send an HTTP Request to the webpage"
   ]
  },
  {
   "cell_type": "code",
   "execution_count": 6,
   "id": "6d14d09d",
   "metadata": {},
   "outputs": [],
   "source": [
    "url = \"https://cf-courses-data.s3.us.cloud-object-storage.appdomain.cloud/IBMDeveloperSkillsNetwork-PY0220EN-SkillsNetwork/labs/project/netflix_data_webpage.html\"\n",
    "\n",
    "# Send a GET request to the URL\n",
    "response = requests.get(url)\n"
   ]
  },
  {
   "cell_type": "markdown",
   "id": "15a0a9a3",
   "metadata": {},
   "source": [
    "Step:-2 Parse the HTML content"
   ]
  },
  {
   "cell_type": "code",
   "execution_count": 7,
   "id": "dfdef0a4",
   "metadata": {},
   "outputs": [],
   "source": [
    "# Create a BeautifulSoup object to parse the HTML content\n",
    "soup = BeautifulSoup(response.text, \"html.parser\")\n"
   ]
  },
  {
   "cell_type": "markdown",
   "id": "09095d1d",
   "metadata": {},
   "source": [
    "Step-3 Identify the HTML tags"
   ]
  },
  {
   "cell_type": "code",
   "execution_count": 8,
   "id": "93d75263",
   "metadata": {},
   "outputs": [
    {
     "name": "stdout",
     "output_type": "stream",
     "text": [
      "Empty DataFrame\n",
      "Columns: [Date, Open, High, Low, Close, Volume]\n",
      "Index: []\n"
     ]
    }
   ],
   "source": [
    "# Create an empty DataFrame with columns\n",
    "df = pd.DataFrame(columns=[\"Date\", \"Open\", \"High\", \"Low\", \"Close\", \"Volume\"])\n",
    "\n",
    "# Print the empty DataFrame\n",
    "print(df)"
   ]
  },
  {
   "cell_type": "markdown",
   "id": "85251669",
   "metadata": {},
   "source": [
    "Step-4 Use Beautiful soup method for extracting data"
   ]
  },
  {
   "cell_type": "code",
   "execution_count": 21,
   "id": "75d3829b",
   "metadata": {},
   "outputs": [
    {
     "data": {
      "text/html": [
       "<div>\n",
       "<style scoped>\n",
       "    .dataframe tbody tr th:only-of-type {\n",
       "        vertical-align: middle;\n",
       "    }\n",
       "\n",
       "    .dataframe tbody tr th {\n",
       "        vertical-align: top;\n",
       "    }\n",
       "\n",
       "    .dataframe thead th {\n",
       "        text-align: right;\n",
       "    }\n",
       "</style>\n",
       "<table border=\"1\" class=\"dataframe\">\n",
       "  <thead>\n",
       "    <tr style=\"text-align: right;\">\n",
       "      <th></th>\n",
       "      <th>Date</th>\n",
       "      <th>Open</th>\n",
       "      <th>High</th>\n",
       "      <th>Low</th>\n",
       "      <th>Close</th>\n",
       "      <th>Volume</th>\n",
       "    </tr>\n",
       "  </thead>\n",
       "  <tbody>\n",
       "    <tr>\n",
       "      <th>0</th>\n",
       "      <td>Jan 01, 2021</td>\n",
       "      <td>3,270.00</td>\n",
       "      <td>3,363.89</td>\n",
       "      <td>3,086.00</td>\n",
       "      <td>3,206.20</td>\n",
       "      <td>3,206.20</td>\n",
       "    </tr>\n",
       "    <tr>\n",
       "      <th>1</th>\n",
       "      <td>Dec 01, 2020</td>\n",
       "      <td>3,188.50</td>\n",
       "      <td>3,350.65</td>\n",
       "      <td>3,072.82</td>\n",
       "      <td>3,256.93</td>\n",
       "      <td>3,256.93</td>\n",
       "    </tr>\n",
       "    <tr>\n",
       "      <th>2</th>\n",
       "      <td>Nov 01, 2020</td>\n",
       "      <td>3,061.74</td>\n",
       "      <td>3,366.80</td>\n",
       "      <td>2,950.12</td>\n",
       "      <td>3,168.04</td>\n",
       "      <td>3,168.04</td>\n",
       "    </tr>\n",
       "    <tr>\n",
       "      <th>3</th>\n",
       "      <td>Oct 01, 2020</td>\n",
       "      <td>3,208.00</td>\n",
       "      <td>3,496.24</td>\n",
       "      <td>3,019.00</td>\n",
       "      <td>3,036.15</td>\n",
       "      <td>3,036.15</td>\n",
       "    </tr>\n",
       "    <tr>\n",
       "      <th>4</th>\n",
       "      <td>Sep 01, 2020</td>\n",
       "      <td>3,489.58</td>\n",
       "      <td>3,552.25</td>\n",
       "      <td>2,871.00</td>\n",
       "      <td>3,148.73</td>\n",
       "      <td>3,148.73</td>\n",
       "    </tr>\n",
       "  </tbody>\n",
       "</table>\n",
       "</div>"
      ],
      "text/plain": [
       "           Date      Open      High       Low     Close    Volume\n",
       "0  Jan 01, 2021  3,270.00  3,363.89  3,086.00  3,206.20  3,206.20\n",
       "1  Dec 01, 2020  3,188.50  3,350.65  3,072.82  3,256.93  3,256.93\n",
       "2  Nov 01, 2020  3,061.74  3,366.80  2,950.12  3,168.04  3,168.04\n",
       "3  Oct 01, 2020  3,208.00  3,496.24  3,019.00  3,036.15  3,036.15\n",
       "4  Sep 01, 2020  3,489.58  3,552.25  2,871.00  3,148.73  3,148.73"
      ]
     },
     "execution_count": 21,
     "metadata": {},
     "output_type": "execute_result"
    }
   ],
   "source": [
    "# Find the table body\n",
    "table_body = soup.find(\"tbody\")\n",
    "\n",
    "# Extract data from table rows\n",
    "data = []\n",
    "for row in table_body.find_all(\"tr\"):\n",
    "    row_data = [cell.get_text(strip=True) for cell in row.find_all(\"td\")[:-1]]  # Exclude the last column\n",
    "    data.append(row_data)\n",
    "\n",
    "# Create a DataFrame from the extracted data\n",
    "df = pd.DataFrame(data, columns=[\"Date\", \"Open\", \"High\", \"Low\", \"Close\", \"Volume\"])\n",
    "\n",
    "# Print the DataFrame\n",
    "df.head()"
   ]
  },
  {
   "cell_type": "code",
   "execution_count": 24,
   "id": "77bcf67a",
   "metadata": {},
   "outputs": [],
   "source": [
    "# Make a GET request to the URL\n",
    "url = \"https://cf-courses-data.s3.us.cloud-object-storage.appdomain.cloud/IBMDeveloperSkillsNetwork-PY0220EN-SkillsNetwork/labs/project/amazon_data_webpage.html\"\n",
    "response = requests.get(url)\n",
    "\n",
    "# Save the text of the response\n",
    "html_data = response.text"
   ]
  },
  {
   "cell_type": "code",
   "execution_count": 25,
   "id": "af3547ee",
   "metadata": {},
   "outputs": [
    {
     "name": "stdout",
     "output_type": "stream",
     "text": [
      "No paragraphs found\n"
     ]
    }
   ],
   "source": [
    "# Parse the HTML data\n",
    "soup = BeautifulSoup(html_data, 'html.parser')\n",
    "\n",
    "# Now you can work with the parsed HTML data using BeautifulSoup methods\n",
    "# For example, you can find elements by tag name, class, or ID\n",
    "title = soup.title\n",
    "paragraphs = soup.find_all('p')\n",
    "table = soup.find('table')\n",
    "\n",
    "# You can also extract specific data from the parsed HTML\n",
    "# For example, to get the text content of an element\n",
    "title_text = title.text\n",
    "if paragraphs:\n",
    "    first_paragraph_text = paragraphs[0].text\n",
    "else:\n",
    "    # Handle the case when the list is empty\n",
    "    print(\"No paragraphs found\")"
   ]
  },
  {
   "cell_type": "code",
   "execution_count": 26,
   "id": "211bd2a8",
   "metadata": {},
   "outputs": [
    {
     "name": "stderr",
     "output_type": "stream",
     "text": [
      "C:\\Users\\tajes\\AppData\\Local\\Temp\\ipykernel_23664\\2129841189.py:13: FutureWarning: The frame.append method is deprecated and will be removed from pandas in a future version. Use pandas.concat instead.\n",
      "  amazon_data = amazon_data.append({\"Date\": date, \"Open\": Open, \"High\": high, \"Low\": low, \"Close\": close, \"Adj Close\": adj_close, \"Volume\": volume}, ignore_index=True)\n",
      "C:\\Users\\tajes\\AppData\\Local\\Temp\\ipykernel_23664\\2129841189.py:13: FutureWarning: The frame.append method is deprecated and will be removed from pandas in a future version. Use pandas.concat instead.\n",
      "  amazon_data = amazon_data.append({\"Date\": date, \"Open\": Open, \"High\": high, \"Low\": low, \"Close\": close, \"Adj Close\": adj_close, \"Volume\": volume}, ignore_index=True)\n",
      "C:\\Users\\tajes\\AppData\\Local\\Temp\\ipykernel_23664\\2129841189.py:13: FutureWarning: The frame.append method is deprecated and will be removed from pandas in a future version. Use pandas.concat instead.\n",
      "  amazon_data = amazon_data.append({\"Date\": date, \"Open\": Open, \"High\": high, \"Low\": low, \"Close\": close, \"Adj Close\": adj_close, \"Volume\": volume}, ignore_index=True)\n",
      "C:\\Users\\tajes\\AppData\\Local\\Temp\\ipykernel_23664\\2129841189.py:13: FutureWarning: The frame.append method is deprecated and will be removed from pandas in a future version. Use pandas.concat instead.\n",
      "  amazon_data = amazon_data.append({\"Date\": date, \"Open\": Open, \"High\": high, \"Low\": low, \"Close\": close, \"Adj Close\": adj_close, \"Volume\": volume}, ignore_index=True)\n",
      "C:\\Users\\tajes\\AppData\\Local\\Temp\\ipykernel_23664\\2129841189.py:13: FutureWarning: The frame.append method is deprecated and will be removed from pandas in a future version. Use pandas.concat instead.\n",
      "  amazon_data = amazon_data.append({\"Date\": date, \"Open\": Open, \"High\": high, \"Low\": low, \"Close\": close, \"Adj Close\": adj_close, \"Volume\": volume}, ignore_index=True)\n",
      "C:\\Users\\tajes\\AppData\\Local\\Temp\\ipykernel_23664\\2129841189.py:13: FutureWarning: The frame.append method is deprecated and will be removed from pandas in a future version. Use pandas.concat instead.\n",
      "  amazon_data = amazon_data.append({\"Date\": date, \"Open\": Open, \"High\": high, \"Low\": low, \"Close\": close, \"Adj Close\": adj_close, \"Volume\": volume}, ignore_index=True)\n",
      "C:\\Users\\tajes\\AppData\\Local\\Temp\\ipykernel_23664\\2129841189.py:13: FutureWarning: The frame.append method is deprecated and will be removed from pandas in a future version. Use pandas.concat instead.\n",
      "  amazon_data = amazon_data.append({\"Date\": date, \"Open\": Open, \"High\": high, \"Low\": low, \"Close\": close, \"Adj Close\": adj_close, \"Volume\": volume}, ignore_index=True)\n",
      "C:\\Users\\tajes\\AppData\\Local\\Temp\\ipykernel_23664\\2129841189.py:13: FutureWarning: The frame.append method is deprecated and will be removed from pandas in a future version. Use pandas.concat instead.\n",
      "  amazon_data = amazon_data.append({\"Date\": date, \"Open\": Open, \"High\": high, \"Low\": low, \"Close\": close, \"Adj Close\": adj_close, \"Volume\": volume}, ignore_index=True)\n",
      "C:\\Users\\tajes\\AppData\\Local\\Temp\\ipykernel_23664\\2129841189.py:13: FutureWarning: The frame.append method is deprecated and will be removed from pandas in a future version. Use pandas.concat instead.\n",
      "  amazon_data = amazon_data.append({\"Date\": date, \"Open\": Open, \"High\": high, \"Low\": low, \"Close\": close, \"Adj Close\": adj_close, \"Volume\": volume}, ignore_index=True)\n",
      "C:\\Users\\tajes\\AppData\\Local\\Temp\\ipykernel_23664\\2129841189.py:13: FutureWarning: The frame.append method is deprecated and will be removed from pandas in a future version. Use pandas.concat instead.\n",
      "  amazon_data = amazon_data.append({\"Date\": date, \"Open\": Open, \"High\": high, \"Low\": low, \"Close\": close, \"Adj Close\": adj_close, \"Volume\": volume}, ignore_index=True)\n",
      "C:\\Users\\tajes\\AppData\\Local\\Temp\\ipykernel_23664\\2129841189.py:13: FutureWarning: The frame.append method is deprecated and will be removed from pandas in a future version. Use pandas.concat instead.\n",
      "  amazon_data = amazon_data.append({\"Date\": date, \"Open\": Open, \"High\": high, \"Low\": low, \"Close\": close, \"Adj Close\": adj_close, \"Volume\": volume}, ignore_index=True)\n",
      "C:\\Users\\tajes\\AppData\\Local\\Temp\\ipykernel_23664\\2129841189.py:13: FutureWarning: The frame.append method is deprecated and will be removed from pandas in a future version. Use pandas.concat instead.\n",
      "  amazon_data = amazon_data.append({\"Date\": date, \"Open\": Open, \"High\": high, \"Low\": low, \"Close\": close, \"Adj Close\": adj_close, \"Volume\": volume}, ignore_index=True)\n",
      "C:\\Users\\tajes\\AppData\\Local\\Temp\\ipykernel_23664\\2129841189.py:13: FutureWarning: The frame.append method is deprecated and will be removed from pandas in a future version. Use pandas.concat instead.\n",
      "  amazon_data = amazon_data.append({\"Date\": date, \"Open\": Open, \"High\": high, \"Low\": low, \"Close\": close, \"Adj Close\": adj_close, \"Volume\": volume}, ignore_index=True)\n",
      "C:\\Users\\tajes\\AppData\\Local\\Temp\\ipykernel_23664\\2129841189.py:13: FutureWarning: The frame.append method is deprecated and will be removed from pandas in a future version. Use pandas.concat instead.\n",
      "  amazon_data = amazon_data.append({\"Date\": date, \"Open\": Open, \"High\": high, \"Low\": low, \"Close\": close, \"Adj Close\": adj_close, \"Volume\": volume}, ignore_index=True)\n",
      "C:\\Users\\tajes\\AppData\\Local\\Temp\\ipykernel_23664\\2129841189.py:13: FutureWarning: The frame.append method is deprecated and will be removed from pandas in a future version. Use pandas.concat instead.\n",
      "  amazon_data = amazon_data.append({\"Date\": date, \"Open\": Open, \"High\": high, \"Low\": low, \"Close\": close, \"Adj Close\": adj_close, \"Volume\": volume}, ignore_index=True)\n",
      "C:\\Users\\tajes\\AppData\\Local\\Temp\\ipykernel_23664\\2129841189.py:13: FutureWarning: The frame.append method is deprecated and will be removed from pandas in a future version. Use pandas.concat instead.\n",
      "  amazon_data = amazon_data.append({\"Date\": date, \"Open\": Open, \"High\": high, \"Low\": low, \"Close\": close, \"Adj Close\": adj_close, \"Volume\": volume}, ignore_index=True)\n",
      "C:\\Users\\tajes\\AppData\\Local\\Temp\\ipykernel_23664\\2129841189.py:13: FutureWarning: The frame.append method is deprecated and will be removed from pandas in a future version. Use pandas.concat instead.\n",
      "  amazon_data = amazon_data.append({\"Date\": date, \"Open\": Open, \"High\": high, \"Low\": low, \"Close\": close, \"Adj Close\": adj_close, \"Volume\": volume}, ignore_index=True)\n",
      "C:\\Users\\tajes\\AppData\\Local\\Temp\\ipykernel_23664\\2129841189.py:13: FutureWarning: The frame.append method is deprecated and will be removed from pandas in a future version. Use pandas.concat instead.\n",
      "  amazon_data = amazon_data.append({\"Date\": date, \"Open\": Open, \"High\": high, \"Low\": low, \"Close\": close, \"Adj Close\": adj_close, \"Volume\": volume}, ignore_index=True)\n",
      "C:\\Users\\tajes\\AppData\\Local\\Temp\\ipykernel_23664\\2129841189.py:13: FutureWarning: The frame.append method is deprecated and will be removed from pandas in a future version. Use pandas.concat instead.\n",
      "  amazon_data = amazon_data.append({\"Date\": date, \"Open\": Open, \"High\": high, \"Low\": low, \"Close\": close, \"Adj Close\": adj_close, \"Volume\": volume}, ignore_index=True)\n",
      "C:\\Users\\tajes\\AppData\\Local\\Temp\\ipykernel_23664\\2129841189.py:13: FutureWarning: The frame.append method is deprecated and will be removed from pandas in a future version. Use pandas.concat instead.\n",
      "  amazon_data = amazon_data.append({\"Date\": date, \"Open\": Open, \"High\": high, \"Low\": low, \"Close\": close, \"Adj Close\": adj_close, \"Volume\": volume}, ignore_index=True)\n",
      "C:\\Users\\tajes\\AppData\\Local\\Temp\\ipykernel_23664\\2129841189.py:13: FutureWarning: The frame.append method is deprecated and will be removed from pandas in a future version. Use pandas.concat instead.\n",
      "  amazon_data = amazon_data.append({\"Date\": date, \"Open\": Open, \"High\": high, \"Low\": low, \"Close\": close, \"Adj Close\": adj_close, \"Volume\": volume}, ignore_index=True)\n",
      "C:\\Users\\tajes\\AppData\\Local\\Temp\\ipykernel_23664\\2129841189.py:13: FutureWarning: The frame.append method is deprecated and will be removed from pandas in a future version. Use pandas.concat instead.\n",
      "  amazon_data = amazon_data.append({\"Date\": date, \"Open\": Open, \"High\": high, \"Low\": low, \"Close\": close, \"Adj Close\": adj_close, \"Volume\": volume}, ignore_index=True)\n",
      "C:\\Users\\tajes\\AppData\\Local\\Temp\\ipykernel_23664\\2129841189.py:13: FutureWarning: The frame.append method is deprecated and will be removed from pandas in a future version. Use pandas.concat instead.\n",
      "  amazon_data = amazon_data.append({\"Date\": date, \"Open\": Open, \"High\": high, \"Low\": low, \"Close\": close, \"Adj Close\": adj_close, \"Volume\": volume}, ignore_index=True)\n",
      "C:\\Users\\tajes\\AppData\\Local\\Temp\\ipykernel_23664\\2129841189.py:13: FutureWarning: The frame.append method is deprecated and will be removed from pandas in a future version. Use pandas.concat instead.\n",
      "  amazon_data = amazon_data.append({\"Date\": date, \"Open\": Open, \"High\": high, \"Low\": low, \"Close\": close, \"Adj Close\": adj_close, \"Volume\": volume}, ignore_index=True)\n",
      "C:\\Users\\tajes\\AppData\\Local\\Temp\\ipykernel_23664\\2129841189.py:13: FutureWarning: The frame.append method is deprecated and will be removed from pandas in a future version. Use pandas.concat instead.\n",
      "  amazon_data = amazon_data.append({\"Date\": date, \"Open\": Open, \"High\": high, \"Low\": low, \"Close\": close, \"Adj Close\": adj_close, \"Volume\": volume}, ignore_index=True)\n",
      "C:\\Users\\tajes\\AppData\\Local\\Temp\\ipykernel_23664\\2129841189.py:13: FutureWarning: The frame.append method is deprecated and will be removed from pandas in a future version. Use pandas.concat instead.\n",
      "  amazon_data = amazon_data.append({\"Date\": date, \"Open\": Open, \"High\": high, \"Low\": low, \"Close\": close, \"Adj Close\": adj_close, \"Volume\": volume}, ignore_index=True)\n",
      "C:\\Users\\tajes\\AppData\\Local\\Temp\\ipykernel_23664\\2129841189.py:13: FutureWarning: The frame.append method is deprecated and will be removed from pandas in a future version. Use pandas.concat instead.\n",
      "  amazon_data = amazon_data.append({\"Date\": date, \"Open\": Open, \"High\": high, \"Low\": low, \"Close\": close, \"Adj Close\": adj_close, \"Volume\": volume}, ignore_index=True)\n",
      "C:\\Users\\tajes\\AppData\\Local\\Temp\\ipykernel_23664\\2129841189.py:13: FutureWarning: The frame.append method is deprecated and will be removed from pandas in a future version. Use pandas.concat instead.\n",
      "  amazon_data = amazon_data.append({\"Date\": date, \"Open\": Open, \"High\": high, \"Low\": low, \"Close\": close, \"Adj Close\": adj_close, \"Volume\": volume}, ignore_index=True)\n",
      "C:\\Users\\tajes\\AppData\\Local\\Temp\\ipykernel_23664\\2129841189.py:13: FutureWarning: The frame.append method is deprecated and will be removed from pandas in a future version. Use pandas.concat instead.\n",
      "  amazon_data = amazon_data.append({\"Date\": date, \"Open\": Open, \"High\": high, \"Low\": low, \"Close\": close, \"Adj Close\": adj_close, \"Volume\": volume}, ignore_index=True)\n",
      "C:\\Users\\tajes\\AppData\\Local\\Temp\\ipykernel_23664\\2129841189.py:13: FutureWarning: The frame.append method is deprecated and will be removed from pandas in a future version. Use pandas.concat instead.\n",
      "  amazon_data = amazon_data.append({\"Date\": date, \"Open\": Open, \"High\": high, \"Low\": low, \"Close\": close, \"Adj Close\": adj_close, \"Volume\": volume}, ignore_index=True)\n",
      "C:\\Users\\tajes\\AppData\\Local\\Temp\\ipykernel_23664\\2129841189.py:13: FutureWarning: The frame.append method is deprecated and will be removed from pandas in a future version. Use pandas.concat instead.\n",
      "  amazon_data = amazon_data.append({\"Date\": date, \"Open\": Open, \"High\": high, \"Low\": low, \"Close\": close, \"Adj Close\": adj_close, \"Volume\": volume}, ignore_index=True)\n",
      "C:\\Users\\tajes\\AppData\\Local\\Temp\\ipykernel_23664\\2129841189.py:13: FutureWarning: The frame.append method is deprecated and will be removed from pandas in a future version. Use pandas.concat instead.\n",
      "  amazon_data = amazon_data.append({\"Date\": date, \"Open\": Open, \"High\": high, \"Low\": low, \"Close\": close, \"Adj Close\": adj_close, \"Volume\": volume}, ignore_index=True)\n",
      "C:\\Users\\tajes\\AppData\\Local\\Temp\\ipykernel_23664\\2129841189.py:13: FutureWarning: The frame.append method is deprecated and will be removed from pandas in a future version. Use pandas.concat instead.\n",
      "  amazon_data = amazon_data.append({\"Date\": date, \"Open\": Open, \"High\": high, \"Low\": low, \"Close\": close, \"Adj Close\": adj_close, \"Volume\": volume}, ignore_index=True)\n",
      "C:\\Users\\tajes\\AppData\\Local\\Temp\\ipykernel_23664\\2129841189.py:13: FutureWarning: The frame.append method is deprecated and will be removed from pandas in a future version. Use pandas.concat instead.\n",
      "  amazon_data = amazon_data.append({\"Date\": date, \"Open\": Open, \"High\": high, \"Low\": low, \"Close\": close, \"Adj Close\": adj_close, \"Volume\": volume}, ignore_index=True)\n",
      "C:\\Users\\tajes\\AppData\\Local\\Temp\\ipykernel_23664\\2129841189.py:13: FutureWarning: The frame.append method is deprecated and will be removed from pandas in a future version. Use pandas.concat instead.\n",
      "  amazon_data = amazon_data.append({\"Date\": date, \"Open\": Open, \"High\": high, \"Low\": low, \"Close\": close, \"Adj Close\": adj_close, \"Volume\": volume}, ignore_index=True)\n",
      "C:\\Users\\tajes\\AppData\\Local\\Temp\\ipykernel_23664\\2129841189.py:13: FutureWarning: The frame.append method is deprecated and will be removed from pandas in a future version. Use pandas.concat instead.\n",
      "  amazon_data = amazon_data.append({\"Date\": date, \"Open\": Open, \"High\": high, \"Low\": low, \"Close\": close, \"Adj Close\": adj_close, \"Volume\": volume}, ignore_index=True)\n",
      "C:\\Users\\tajes\\AppData\\Local\\Temp\\ipykernel_23664\\2129841189.py:13: FutureWarning: The frame.append method is deprecated and will be removed from pandas in a future version. Use pandas.concat instead.\n",
      "  amazon_data = amazon_data.append({\"Date\": date, \"Open\": Open, \"High\": high, \"Low\": low, \"Close\": close, \"Adj Close\": adj_close, \"Volume\": volume}, ignore_index=True)\n",
      "C:\\Users\\tajes\\AppData\\Local\\Temp\\ipykernel_23664\\2129841189.py:13: FutureWarning: The frame.append method is deprecated and will be removed from pandas in a future version. Use pandas.concat instead.\n",
      "  amazon_data = amazon_data.append({\"Date\": date, \"Open\": Open, \"High\": high, \"Low\": low, \"Close\": close, \"Adj Close\": adj_close, \"Volume\": volume}, ignore_index=True)\n",
      "C:\\Users\\tajes\\AppData\\Local\\Temp\\ipykernel_23664\\2129841189.py:13: FutureWarning: The frame.append method is deprecated and will be removed from pandas in a future version. Use pandas.concat instead.\n",
      "  amazon_data = amazon_data.append({\"Date\": date, \"Open\": Open, \"High\": high, \"Low\": low, \"Close\": close, \"Adj Close\": adj_close, \"Volume\": volume}, ignore_index=True)\n",
      "C:\\Users\\tajes\\AppData\\Local\\Temp\\ipykernel_23664\\2129841189.py:13: FutureWarning: The frame.append method is deprecated and will be removed from pandas in a future version. Use pandas.concat instead.\n",
      "  amazon_data = amazon_data.append({\"Date\": date, \"Open\": Open, \"High\": high, \"Low\": low, \"Close\": close, \"Adj Close\": adj_close, \"Volume\": volume}, ignore_index=True)\n",
      "C:\\Users\\tajes\\AppData\\Local\\Temp\\ipykernel_23664\\2129841189.py:13: FutureWarning: The frame.append method is deprecated and will be removed from pandas in a future version. Use pandas.concat instead.\n",
      "  amazon_data = amazon_data.append({\"Date\": date, \"Open\": Open, \"High\": high, \"Low\": low, \"Close\": close, \"Adj Close\": adj_close, \"Volume\": volume}, ignore_index=True)\n",
      "C:\\Users\\tajes\\AppData\\Local\\Temp\\ipykernel_23664\\2129841189.py:13: FutureWarning: The frame.append method is deprecated and will be removed from pandas in a future version. Use pandas.concat instead.\n",
      "  amazon_data = amazon_data.append({\"Date\": date, \"Open\": Open, \"High\": high, \"Low\": low, \"Close\": close, \"Adj Close\": adj_close, \"Volume\": volume}, ignore_index=True)\n",
      "C:\\Users\\tajes\\AppData\\Local\\Temp\\ipykernel_23664\\2129841189.py:13: FutureWarning: The frame.append method is deprecated and will be removed from pandas in a future version. Use pandas.concat instead.\n",
      "  amazon_data = amazon_data.append({\"Date\": date, \"Open\": Open, \"High\": high, \"Low\": low, \"Close\": close, \"Adj Close\": adj_close, \"Volume\": volume}, ignore_index=True)\n",
      "C:\\Users\\tajes\\AppData\\Local\\Temp\\ipykernel_23664\\2129841189.py:13: FutureWarning: The frame.append method is deprecated and will be removed from pandas in a future version. Use pandas.concat instead.\n",
      "  amazon_data = amazon_data.append({\"Date\": date, \"Open\": Open, \"High\": high, \"Low\": low, \"Close\": close, \"Adj Close\": adj_close, \"Volume\": volume}, ignore_index=True)\n",
      "C:\\Users\\tajes\\AppData\\Local\\Temp\\ipykernel_23664\\2129841189.py:13: FutureWarning: The frame.append method is deprecated and will be removed from pandas in a future version. Use pandas.concat instead.\n",
      "  amazon_data = amazon_data.append({\"Date\": date, \"Open\": Open, \"High\": high, \"Low\": low, \"Close\": close, \"Adj Close\": adj_close, \"Volume\": volume}, ignore_index=True)\n",
      "C:\\Users\\tajes\\AppData\\Local\\Temp\\ipykernel_23664\\2129841189.py:13: FutureWarning: The frame.append method is deprecated and will be removed from pandas in a future version. Use pandas.concat instead.\n",
      "  amazon_data = amazon_data.append({\"Date\": date, \"Open\": Open, \"High\": high, \"Low\": low, \"Close\": close, \"Adj Close\": adj_close, \"Volume\": volume}, ignore_index=True)\n",
      "C:\\Users\\tajes\\AppData\\Local\\Temp\\ipykernel_23664\\2129841189.py:13: FutureWarning: The frame.append method is deprecated and will be removed from pandas in a future version. Use pandas.concat instead.\n",
      "  amazon_data = amazon_data.append({\"Date\": date, \"Open\": Open, \"High\": high, \"Low\": low, \"Close\": close, \"Adj Close\": adj_close, \"Volume\": volume}, ignore_index=True)\n",
      "C:\\Users\\tajes\\AppData\\Local\\Temp\\ipykernel_23664\\2129841189.py:13: FutureWarning: The frame.append method is deprecated and will be removed from pandas in a future version. Use pandas.concat instead.\n",
      "  amazon_data = amazon_data.append({\"Date\": date, \"Open\": Open, \"High\": high, \"Low\": low, \"Close\": close, \"Adj Close\": adj_close, \"Volume\": volume}, ignore_index=True)\n",
      "C:\\Users\\tajes\\AppData\\Local\\Temp\\ipykernel_23664\\2129841189.py:13: FutureWarning: The frame.append method is deprecated and will be removed from pandas in a future version. Use pandas.concat instead.\n",
      "  amazon_data = amazon_data.append({\"Date\": date, \"Open\": Open, \"High\": high, \"Low\": low, \"Close\": close, \"Adj Close\": adj_close, \"Volume\": volume}, ignore_index=True)\n",
      "C:\\Users\\tajes\\AppData\\Local\\Temp\\ipykernel_23664\\2129841189.py:13: FutureWarning: The frame.append method is deprecated and will be removed from pandas in a future version. Use pandas.concat instead.\n",
      "  amazon_data = amazon_data.append({\"Date\": date, \"Open\": Open, \"High\": high, \"Low\": low, \"Close\": close, \"Adj Close\": adj_close, \"Volume\": volume}, ignore_index=True)\n",
      "C:\\Users\\tajes\\AppData\\Local\\Temp\\ipykernel_23664\\2129841189.py:13: FutureWarning: The frame.append method is deprecated and will be removed from pandas in a future version. Use pandas.concat instead.\n",
      "  amazon_data = amazon_data.append({\"Date\": date, \"Open\": Open, \"High\": high, \"Low\": low, \"Close\": close, \"Adj Close\": adj_close, \"Volume\": volume}, ignore_index=True)\n",
      "C:\\Users\\tajes\\AppData\\Local\\Temp\\ipykernel_23664\\2129841189.py:13: FutureWarning: The frame.append method is deprecated and will be removed from pandas in a future version. Use pandas.concat instead.\n",
      "  amazon_data = amazon_data.append({\"Date\": date, \"Open\": Open, \"High\": high, \"Low\": low, \"Close\": close, \"Adj Close\": adj_close, \"Volume\": volume}, ignore_index=True)\n",
      "C:\\Users\\tajes\\AppData\\Local\\Temp\\ipykernel_23664\\2129841189.py:13: FutureWarning: The frame.append method is deprecated and will be removed from pandas in a future version. Use pandas.concat instead.\n",
      "  amazon_data = amazon_data.append({\"Date\": date, \"Open\": Open, \"High\": high, \"Low\": low, \"Close\": close, \"Adj Close\": adj_close, \"Volume\": volume}, ignore_index=True)\n",
      "C:\\Users\\tajes\\AppData\\Local\\Temp\\ipykernel_23664\\2129841189.py:13: FutureWarning: The frame.append method is deprecated and will be removed from pandas in a future version. Use pandas.concat instead.\n",
      "  amazon_data = amazon_data.append({\"Date\": date, \"Open\": Open, \"High\": high, \"Low\": low, \"Close\": close, \"Adj Close\": adj_close, \"Volume\": volume}, ignore_index=True)\n",
      "C:\\Users\\tajes\\AppData\\Local\\Temp\\ipykernel_23664\\2129841189.py:13: FutureWarning: The frame.append method is deprecated and will be removed from pandas in a future version. Use pandas.concat instead.\n",
      "  amazon_data = amazon_data.append({\"Date\": date, \"Open\": Open, \"High\": high, \"Low\": low, \"Close\": close, \"Adj Close\": adj_close, \"Volume\": volume}, ignore_index=True)\n",
      "C:\\Users\\tajes\\AppData\\Local\\Temp\\ipykernel_23664\\2129841189.py:13: FutureWarning: The frame.append method is deprecated and will be removed from pandas in a future version. Use pandas.concat instead.\n",
      "  amazon_data = amazon_data.append({\"Date\": date, \"Open\": Open, \"High\": high, \"Low\": low, \"Close\": close, \"Adj Close\": adj_close, \"Volume\": volume}, ignore_index=True)\n",
      "C:\\Users\\tajes\\AppData\\Local\\Temp\\ipykernel_23664\\2129841189.py:13: FutureWarning: The frame.append method is deprecated and will be removed from pandas in a future version. Use pandas.concat instead.\n",
      "  amazon_data = amazon_data.append({\"Date\": date, \"Open\": Open, \"High\": high, \"Low\": low, \"Close\": close, \"Adj Close\": adj_close, \"Volume\": volume}, ignore_index=True)\n",
      "C:\\Users\\tajes\\AppData\\Local\\Temp\\ipykernel_23664\\2129841189.py:13: FutureWarning: The frame.append method is deprecated and will be removed from pandas in a future version. Use pandas.concat instead.\n",
      "  amazon_data = amazon_data.append({\"Date\": date, \"Open\": Open, \"High\": high, \"Low\": low, \"Close\": close, \"Adj Close\": adj_close, \"Volume\": volume}, ignore_index=True)\n",
      "C:\\Users\\tajes\\AppData\\Local\\Temp\\ipykernel_23664\\2129841189.py:13: FutureWarning: The frame.append method is deprecated and will be removed from pandas in a future version. Use pandas.concat instead.\n",
      "  amazon_data = amazon_data.append({\"Date\": date, \"Open\": Open, \"High\": high, \"Low\": low, \"Close\": close, \"Adj Close\": adj_close, \"Volume\": volume}, ignore_index=True)\n",
      "C:\\Users\\tajes\\AppData\\Local\\Temp\\ipykernel_23664\\2129841189.py:13: FutureWarning: The frame.append method is deprecated and will be removed from pandas in a future version. Use pandas.concat instead.\n",
      "  amazon_data = amazon_data.append({\"Date\": date, \"Open\": Open, \"High\": high, \"Low\": low, \"Close\": close, \"Adj Close\": adj_close, \"Volume\": volume}, ignore_index=True)\n",
      "C:\\Users\\tajes\\AppData\\Local\\Temp\\ipykernel_23664\\2129841189.py:13: FutureWarning: The frame.append method is deprecated and will be removed from pandas in a future version. Use pandas.concat instead.\n",
      "  amazon_data = amazon_data.append({\"Date\": date, \"Open\": Open, \"High\": high, \"Low\": low, \"Close\": close, \"Adj Close\": adj_close, \"Volume\": volume}, ignore_index=True)\n"
     ]
    }
   ],
   "source": [
    "amazon_data = pd.DataFrame(columns=[\"Date\", \"Open\", \"High\", \"Low\", \"Close\", \"Adj Close\", \"Volume\"])\n",
    "\n",
    "for row in soup.find(\"tbody\").find_all(\"tr\"):\n",
    "    col = row.find_all(\"td\")\n",
    "    date = col[0].text.strip()\n",
    "    Open = col[1].text.strip()\n",
    "    high = col[2].text.strip()\n",
    "    low = col[3].text.strip()\n",
    "    close = col[4].text.strip()\n",
    "    adj_close = col[5].text.strip()\n",
    "    volume = col[6].text.strip()\n",
    "    \n",
    "    amazon_data = amazon_data.append({\"Date\": date, \"Open\": Open, \"High\": high, \"Low\": low, \"Close\": close, \"Adj Close\": adj_close, \"Volume\": volume}, ignore_index=True)\n"
   ]
  },
  {
   "cell_type": "code",
   "execution_count": 27,
   "id": "483c6d9c",
   "metadata": {},
   "outputs": [
    {
     "data": {
      "text/html": [
       "<div>\n",
       "<style scoped>\n",
       "    .dataframe tbody tr th:only-of-type {\n",
       "        vertical-align: middle;\n",
       "    }\n",
       "\n",
       "    .dataframe tbody tr th {\n",
       "        vertical-align: top;\n",
       "    }\n",
       "\n",
       "    .dataframe thead th {\n",
       "        text-align: right;\n",
       "    }\n",
       "</style>\n",
       "<table border=\"1\" class=\"dataframe\">\n",
       "  <thead>\n",
       "    <tr style=\"text-align: right;\">\n",
       "      <th></th>\n",
       "      <th>Date</th>\n",
       "      <th>Open</th>\n",
       "      <th>High</th>\n",
       "      <th>Low</th>\n",
       "      <th>Close</th>\n",
       "      <th>Adj Close</th>\n",
       "      <th>Volume</th>\n",
       "    </tr>\n",
       "  </thead>\n",
       "  <tbody>\n",
       "    <tr>\n",
       "      <th>0</th>\n",
       "      <td>Jan 01, 2021</td>\n",
       "      <td>3,270.00</td>\n",
       "      <td>3,363.89</td>\n",
       "      <td>3,086.00</td>\n",
       "      <td>3,206.20</td>\n",
       "      <td>3,206.20</td>\n",
       "      <td>71,528,900</td>\n",
       "    </tr>\n",
       "    <tr>\n",
       "      <th>1</th>\n",
       "      <td>Dec 01, 2020</td>\n",
       "      <td>3,188.50</td>\n",
       "      <td>3,350.65</td>\n",
       "      <td>3,072.82</td>\n",
       "      <td>3,256.93</td>\n",
       "      <td>3,256.93</td>\n",
       "      <td>77,556,200</td>\n",
       "    </tr>\n",
       "    <tr>\n",
       "      <th>2</th>\n",
       "      <td>Nov 01, 2020</td>\n",
       "      <td>3,061.74</td>\n",
       "      <td>3,366.80</td>\n",
       "      <td>2,950.12</td>\n",
       "      <td>3,168.04</td>\n",
       "      <td>3,168.04</td>\n",
       "      <td>90,810,500</td>\n",
       "    </tr>\n",
       "    <tr>\n",
       "      <th>3</th>\n",
       "      <td>Oct 01, 2020</td>\n",
       "      <td>3,208.00</td>\n",
       "      <td>3,496.24</td>\n",
       "      <td>3,019.00</td>\n",
       "      <td>3,036.15</td>\n",
       "      <td>3,036.15</td>\n",
       "      <td>116,226,100</td>\n",
       "    </tr>\n",
       "    <tr>\n",
       "      <th>4</th>\n",
       "      <td>Sep 01, 2020</td>\n",
       "      <td>3,489.58</td>\n",
       "      <td>3,552.25</td>\n",
       "      <td>2,871.00</td>\n",
       "      <td>3,148.73</td>\n",
       "      <td>3,148.73</td>\n",
       "      <td>115,899,300</td>\n",
       "    </tr>\n",
       "  </tbody>\n",
       "</table>\n",
       "</div>"
      ],
      "text/plain": [
       "           Date      Open      High       Low     Close Adj Close       Volume\n",
       "0  Jan 01, 2021  3,270.00  3,363.89  3,086.00  3,206.20  3,206.20   71,528,900\n",
       "1  Dec 01, 2020  3,188.50  3,350.65  3,072.82  3,256.93  3,256.93   77,556,200\n",
       "2  Nov 01, 2020  3,061.74  3,366.80  2,950.12  3,168.04  3,168.04   90,810,500\n",
       "3  Oct 01, 2020  3,208.00  3,496.24  3,019.00  3,036.15  3,036.15  116,226,100\n",
       "4  Sep 01, 2020  3,489.58  3,552.25  2,871.00  3,148.73  3,148.73  115,899,300"
      ]
     },
     "execution_count": 27,
     "metadata": {},
     "output_type": "execute_result"
    }
   ],
   "source": [
    "amazon_data.head()"
   ]
  }
 ],
 "metadata": {
  "kernelspec": {
   "display_name": "Python 3 (ipykernel)",
   "language": "python",
   "name": "python3"
  },
  "language_info": {
   "codemirror_mode": {
    "name": "ipython",
    "version": 3
   },
   "file_extension": ".py",
   "mimetype": "text/x-python",
   "name": "python",
   "nbconvert_exporter": "python",
   "pygments_lexer": "ipython3",
   "version": "3.9.13"
  }
 },
 "nbformat": 4,
 "nbformat_minor": 5
}
